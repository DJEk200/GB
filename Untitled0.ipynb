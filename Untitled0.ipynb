{
  "nbformat": 4,
  "nbformat_minor": 0,
  "metadata": {
    "colab": {
      "name": "Untitled0.ipynb",
      "provenance": [],
      "authorship_tag": "ABX9TyO9QuGch0QmpExBX9PCRHtK",
      "include_colab_link": true
    },
    "kernelspec": {
      "name": "python3",
      "display_name": "Python 3"
    }
  },
  "cells": [
    {
      "cell_type": "markdown",
      "metadata": {
        "id": "view-in-github",
        "colab_type": "text"
      },
      "source": [
        "<a href=\"https://colab.research.google.com/github/DJEk200/GB/blob/master/Untitled0.ipynb\" target=\"_parent\"><img src=\"https://colab.research.google.com/assets/colab-badge.svg\" alt=\"Open In Colab\"/></a>"
      ]
    },
    {
      "cell_type": "markdown",
      "metadata": {
        "id": "Y_Ex9QsG-fKA"
      },
      "source": [
        "**Домашнее задание ко второму уроку**\n",
        "\n",
        "1) В чём различие между зависимыми и независимыми выборками?\n",
        "\n",
        "Если можно установить, что каждому случаю из  одной выборки соответствует один и только один случай из второй выборки и наоборот для каждого случая в двух выборках, такие выборки называются зависимыми. \n",
        "В случае, если такая взаимосвязь между выборками отсутствует, то эти выборки считаются независимыми.\n",
        "\n",
        "Соответственно, зависимые выборки всегда имеют одинаковый объём, а объём независимых может отличаться.\n",
        "\n",
        "\n",
        "2) Когда применяются параметрические статистические критерии, а когда — их непараметрические аналоги?\n",
        "\n",
        "Параметрический критерий используют когда известны свойства выборки данных:  тип распределения, среднее, дисперсия и т.д.\n",
        "\n",
        "Непараметрический критерий используют, если нет  информации о выборке."
      ]
    }
  ]
}